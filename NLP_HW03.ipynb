{
 "cells": [
  {
   "cell_type": "code",
   "execution_count": 132,
   "id": "726fe305",
   "metadata": {},
   "outputs": [],
   "source": [
    "import pandas as pd\n",
    "import jieba\n",
    "import jieba.analyse\n",
    "\n",
    "data = pd.read_csv(\"output.csv\")\n",
    "\n",
    "#在劇情介紹裡找十個重要的關鍵字\n",
    "def fetch_keywords(data):\n",
    "    keywords=[]\n",
    "    for content in data['劇情介紹']:\n",
    "        index = jieba.analyse.extract_tags(content,10)\n",
    "        keywords.append(index)\n",
    "    return keywords"
   ]
  },
  {
   "cell_type": "code",
   "execution_count": 133,
   "id": "31d4d5a5",
   "metadata": {},
   "outputs": [
    {
     "name": "stdout",
     "output_type": "stream",
     "text": [
      "     Unnamed: 0          名稱  分類        上映日期  \\\n",
      "0             0  小小兵2：格魯的崛起  動作  2022-07-01   \n",
      "1             1         蝙蝠俠  動作  2022-03-04   \n",
      "2             2         魔比斯  動作  2022-01-16   \n",
      "3             3    捍衛戰士：獨行俠  動作  2021-11-19   \n",
      "4             4    魔鬼剋星：未來世  動作  2021-11-11   \n",
      "..          ...         ...  ..         ...   \n",
      "249         249       結婚計念日  喜劇  2021-02-19   \n",
      "250         250         男兒王  喜劇  2021-02-10   \n",
      "251         251        愛不可失  喜劇  2021-02-05   \n",
      "252         252       騙騙愛上你  喜劇  2021-01-29   \n",
      "253         253         法蘭克  喜劇  2021-01-22   \n",
      "\n",
      "                                                  劇情介紹  \\\n",
      "0    今年暑假，影史最賣座的動畫電影系列之一和風靡全球的現象，即將帶來關於一個12歲小男孩的故事，...   \n",
      "1    《蝙蝠俠》將聚焦於一個年輕版本的布魯斯韋恩，並從中檢視他在面罩之下的靈魂。羅伯派汀森將在新版...   \n",
      "2    ★索尼與漫威繼《猛毒》後再一野心暗黑爭議之作 ★《蜘蛛人》宇宙正式成立全新神秘反派吸血鬼「魔...   \n",
      "3    派拉蒙影業1986年推出的《捍衛戰士》，由湯姆克魯斯主演，是一齣以航空母艦與美國海軍戰鬥機武...   \n",
      "4    ★抓鬼始祖回歸！《魔鬼剋星未來世》2020年夏天重磅登場★《蟻人》保羅路德攜《怪奇物與》天才...   \n",
      "..                                                 ...   \n",
      "249  ★《真相急先鋒》製作團隊攜手打造★宛如《真愛每一天》般又感動又好笑的人生之旅★繼《命運好好玩...   \n",
      "250  ★入圍第五十七屆金馬獎最佳男主角、勇奪最佳造型設計獎★金馬影展一票難求，轟動影廳全場笑到逼出...   \n",
      "251  ★2019韓國富川國際奇幻影展★2019高雄電影節★《雞不可失》孔明×人氣女團「Girl's...   \n",
      "252  ★《模犯生》《限時好友》億萬票房製作團隊聯手打造最新爆笑喜劇★《初戀那件小事》清純女星平采娜...   \n",
      "253  ★日舞影展搞怪登場年度最怪咖的音樂電影★爛蕃茄RottenTomatoes92％絕讚推薦★榮...   \n",
      "\n",
      "                                              keywords  \n",
      "0            [電影, 這部, 小小, 動畫, 超級, 格魯, 導演, 克里斯, 系列, 照明]  \n",
      "1          [蝙蝠, 一個, 布魯斯, 韋恩, 並從, 中檢視, 靈魂, 伯派, 森將, 中飾演]  \n",
      "2           [奧斯卡, 雷托領, 治療, 實驗, 結果, 瑞德, 比斯, 宇宙, 疾病, 得主]  \n",
      "3    [捍衛戰士, 任務, 1986, 湯姆克魯斯, 獨行俠, 派拉蒙, 金斯基, 珍妮佛, 航空...  \n",
      "4            [魔鬼, 星未來, 童星, 保羅, 續集, 他們, 特曼, 系列, 路德, 正宗]  \n",
      "..                                                 ...  \n",
      "249        [泰迪, 結婚, 發現, 人生, 急先鋒, 真愛每, 感動, 命運好, 改變, 命運]  \n",
      "250        [變裝, 酒吧, 登台, 皇后, 最佳, 第五十七, 影展, 入圍, 金馬獎, 勇奪]  \n",
      "251        [2019, 晉秀, 感到, 孔明, 徬徨, 影展, 韓國, 富川, 國際, 電影節]  \n",
      "252         [前男友, 騙子, 伊娜, 爆笑, 模犯生, 限時, 億萬, 喜劇, 初戀, 清純]  \n",
      "253         [音樂, 最佳, 搞怪, 電影, 英國, 獨立, 電影獎, 法蘭克, 面具, 男孩]  \n",
      "\n",
      "[254 rows x 6 columns]\n"
     ]
    }
   ],
   "source": [
    "data['keywords'] = fetch_keywords(data)\n"
   ]
  },
  {
   "cell_type": "code",
   "execution_count": null,
   "id": "bdb7c2e4",
   "metadata": {},
   "outputs": [],
   "source": []
  },
  {
   "cell_type": "code",
   "execution_count": null,
   "id": "9840d316",
   "metadata": {},
   "outputs": [],
   "source": []
  }
 ],
 "metadata": {
  "kernelspec": {
   "display_name": "Python 3 (ipykernel)",
   "language": "python",
   "name": "python3"
  },
  "language_info": {
   "codemirror_mode": {
    "name": "ipython",
    "version": 3
   },
   "file_extension": ".py",
   "mimetype": "text/x-python",
   "name": "python",
   "nbconvert_exporter": "python",
   "pygments_lexer": "ipython3",
   "version": "3.9.6"
  }
 },
 "nbformat": 4,
 "nbformat_minor": 5
}
