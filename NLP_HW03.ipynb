{
 "cells": [
  {
   "cell_type": "code",
   "execution_count": 17,
   "id": "79b85b51",
   "metadata": {},
   "outputs": [
    {
     "name": "stdout",
     "output_type": "stream",
     "text": [
      "0       動作\n",
      "1       動作\n",
      "2       動作\n",
      "3       動作\n",
      "4       動作\n",
      "        ..\n",
      "8522    影展\n",
      "8523    影展\n",
      "8524    影展\n",
      "8525    影展\n",
      "8526    影展\n",
      "Name: 分類, Length: 8527, dtype: object\n"
     ]
    }
   ],
   "source": [
    "import pandas as pd\n",
    "\n",
    "# Load in the data with `read_csv()`\n",
    "data = pd.read_csv(\"movies.csv\")\n",
    "\n",
    "print(data['分類'])"
   ]
  },
  {
   "cell_type": "code",
   "execution_count": null,
   "id": "5fe321a6",
   "metadata": {},
   "outputs": [],
   "source": []
  }
 ],
 "metadata": {
  "kernelspec": {
   "display_name": "Python 3 (ipykernel)",
   "language": "python",
   "name": "python3"
  },
  "language_info": {
   "codemirror_mode": {
    "name": "ipython",
    "version": 3
   },
   "file_extension": ".py",
   "mimetype": "text/x-python",
   "name": "python",
   "nbconvert_exporter": "python",
   "pygments_lexer": "ipython3",
   "version": "3.9.6"
  }
 },
 "nbformat": 4,
 "nbformat_minor": 5
}
