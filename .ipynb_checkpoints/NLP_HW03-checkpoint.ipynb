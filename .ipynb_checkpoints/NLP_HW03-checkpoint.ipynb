{
 "cells": [
  {
   "cell_type": "code",
   "execution_count": 379,
   "id": "a0624004",
   "metadata": {},
   "outputs": [],
   "source": [
    "import pandas as pd\n",
    "import random\n",
    "import jieba\n",
    "import jieba.analyse\n",
    "from sklearn.feature_extraction.text import CountVectorizer\n",
    "from sklearn.feature_extraction.text import TfidfTransformer\n",
    "from sklearn.feature_extraction.text import TfidfVectorizer\n",
    "from sklearn.model_selection import train_test_split\n",
    "\n",
    "train = []\n",
    "test = []\n",
    "data = pd.read_csv(\"movies.csv\")\n",
    "\n",
    "###在每個劇情介紹裡找前六個keywords\n",
    "def fetch_keywords(data):\n",
    "    keywords = []\n",
    "    for content in data['劇情介紹']:\n",
    "        index = jieba.analyse.extract_tags(content,6)\n",
    "        keywords.append(index)\n",
    "    return keywords\n",
    "\n",
    "###package = 名稱+分類+keywords\n",
    "def wrap_up(data):\n",
    "    contents = []\n",
    "    contents = data['名稱']+\" \"+data['分類']+\" \"+(\" \".join(data['keywords']))\n",
    "    return contents\n"
   ]
  },
  {
   "cell_type": "code",
   "execution_count": 380,
   "id": "8fff0c74",
   "metadata": {},
   "outputs": [
    {
     "name": "stdout",
     "output_type": "stream",
     "text": [
      "success\n"
     ]
    }
   ],
   "source": [
    "data['keywords'] = fetch_keywords(data)\n",
    "data['package'] = data.apply(wrap_up, axis=1)\n",
    "#隨機抽500筆當作測試資料,剩餘的做為訓練資料\n",
    "test = data.sample(n=500,replace = False)\n",
    "train = data.drop(test['num'])\n",
    "#詞頻矩陣\n",
    "vectorizer = CountVectorizer()  \n",
    "CVtest = vectorizer.fit_transform(test['package'])\n",
    "CVtrain = vectorizer.transform(train['package'])\n",
    "#TFIDF矩陣\n",
    "transformer = TfidfTransformer()\n",
    "TItest = transformer.fit_transform(CVtest)\n",
    "TItrain = transformer.transform(CVtrain)\n",
    "print(\"success\")"
   ]
  },
  {
   "cell_type": "code",
   "execution_count": 381,
   "id": "ef244936",
   "metadata": {},
   "outputs": [
    {
     "data": {
      "text/plain": [
       "KNeighborsClassifier(n_neighbors=3)"
      ]
     },
     "execution_count": 381,
     "metadata": {},
     "output_type": "execute_result"
    }
   ],
   "source": [
    "#knn\n",
    "from sklearn.neighbors import KNeighborsClassifier\n",
    "knn = KNeighborsClassifier(n_neighbors=3)\n",
    "knn.fit(TItrain,train['分類'])"
   ]
  },
  {
   "cell_type": "code",
   "execution_count": 382,
   "id": "6aad7f5e",
   "metadata": {},
   "outputs": [
    {
     "data": {
      "text/plain": [
       "array(['劇情', '劇情', '劇情', '劇情', '劇情', '劇情', '動作', '劇情', '劇情', '劇情', '劇情',\n",
       "       '動作', '恐怖', '動畫', '劇情', '劇情', '動作', '紀錄片', '劇情', '劇情', '懸疑/驚悚',\n",
       "       '喜劇', '動作', '劇情', '動作', '劇情', '動作', '劇情', '劇情', '愛情', '動作', '劇情',\n",
       "       '劇情', '奇幻', '劇情', '動畫', '劇情', '劇情', '喜劇', '劇情', '劇情', '劇情', '劇情',\n",
       "       '劇情', '音樂/歌舞', '劇情', '音樂/歌舞', '劇情', '動畫', '劇情', '動畫', '懸疑/驚悚',\n",
       "       '劇情', '紀錄片', '劇情', '劇情', '劇情', '喜劇', '劇情', '恐怖', '愛情', '劇情', '劇情',\n",
       "       '劇情', '劇情', '劇情', '動作', '劇情', '劇情', '劇情', '劇情', '劇情', '動作', '劇情',\n",
       "       '懸疑/驚悚', '動畫', '劇情', '劇情', '劇情', '劇情', '劇情', '劇情', '音樂/歌舞', '冒險',\n",
       "       '動作', '劇情', '劇情', '冒險', '動作', '動畫', '劇情', '懸疑/驚悚', '恐怖', '劇情',\n",
       "       '冒險', '劇情', '動作', '動作', '劇情', '動作', '劇情', '劇情', '懸疑/驚悚', '劇情',\n",
       "       '喜劇', '劇情', '劇情', '劇情', '冒險', '劇情', '劇情', '劇情', '劇情', '懸疑/驚悚',\n",
       "       '劇情', '喜劇', '劇情', '奇幻', '劇情', '紀錄片', '劇情', '劇情', '恐怖', '劇情', '劇情',\n",
       "       '動作', '劇情', '劇情', '劇情', '動作', '動作', '劇情', '劇情', '動作', '劇情', '劇情',\n",
       "       '冒險', '劇情', '劇情', '動畫', '劇情', '動作', '劇情', '劇情', '喜劇', '喜劇', '動作',\n",
       "       '愛情', '劇情', '音樂/歌舞', '恐怖', '動作', '劇情', '動畫', '動作', '劇情', '劇情',\n",
       "       '科幻', '劇情', '恐怖', '劇情', '動作', '劇情', '劇情', '恐怖', '劇情', '喜劇', '冒險',\n",
       "       '劇情', '劇情', '動作', '動作', '劇情', '劇情', '動作', '劇情', '紀錄片', '冒險', '動作',\n",
       "       '劇情', '劇情', '劇情', '劇情', '喜劇', '劇情', '劇情', '劇情', '劇情', '懸疑/驚悚',\n",
       "       '劇情', '懸疑/驚悚', '劇情', '冒險', '劇情', '劇情', '動作', '紀錄片', '懸疑/驚悚', '動作',\n",
       "       '動作', '恐怖', '音樂/歌舞', '劇情', '劇情', '喜劇', '動作', '冒險', '劇情', '劇情',\n",
       "       '劇情', '動作', '科幻', '劇情', '劇情', '恐怖', '劇情', '劇情', '動作', '劇情', '劇情',\n",
       "       '動作', '劇情', '動畫', '劇情', '奇幻', '劇情', '動作', '劇情', '恐怖', '劇情', '劇情',\n",
       "       '劇情', '犯罪', '劇情', '劇情', '喜劇', '劇情', '劇情', '劇情', '動作', '劇情', '動作',\n",
       "       '音樂/歌舞', '冒險', '劇情', '愛情', '劇情', '劇情', '劇情', '劇情', '動畫', '動作',\n",
       "       '動作', '劇情', '劇情', '動畫', '劇情', '冒險', '動作', '劇情', '劇情', '劇情', '冒險',\n",
       "       '劇情', '劇情', '劇情', '動畫', '科幻', '劇情', '動作', '動作', '劇情', '劇情', '恐怖',\n",
       "       '動作', '劇情', '劇情', '劇情', '冒險', '動作', '劇情', '劇情', '喜劇', '劇情', '劇情',\n",
       "       '恐怖', '劇情', '劇情', '劇情', '懸疑/驚悚', '劇情', '劇情', '劇情', '劇情', '劇情',\n",
       "       '犯罪', '劇情', '動作', '劇情', '劇情', '劇情', '動畫', '劇情', '劇情', '劇情', '動作',\n",
       "       '劇情', '動作', '紀錄片', '動作', '劇情', '劇情', '劇情', '劇情', '紀錄片', '劇情', '動作',\n",
       "       '劇情', '劇情', '恐怖', '劇情', '劇情', '劇情', '劇情', '劇情', '懸疑/驚悚', '音樂/歌舞',\n",
       "       '動作', '劇情', '劇情', '劇情', '冒險', '音樂/歌舞', '劇情', '音樂/歌舞', '動畫', '劇情',\n",
       "       '劇情', '劇情', '劇情', '懸疑/驚悚', '劇情', '劇情', '劇情', '劇情', '劇情', '劇情',\n",
       "       '劇情', '劇情', '恐怖', '劇情', '犯罪', '劇情', '劇情', '劇情', '劇情', '動作', '劇情',\n",
       "       '劇情', '劇情', '劇情', '紀錄片', '劇情', '劇情', '科幻', '劇情', '劇情', '劇情', '劇情',\n",
       "       '懸疑/驚悚', '紀錄片', '劇情', '劇情', '動作', '劇情', '恐怖', '影展', '劇情', '劇情',\n",
       "       '劇情', '動作', '劇情', '劇情', '音樂/歌舞', '紀錄片', '劇情', '劇情', '愛情', '劇情',\n",
       "       '劇情', '劇情', '動作', '劇情', '劇情', '劇情', '懸疑/驚悚', '劇情', '喜劇', '懸疑/驚悚',\n",
       "       '劇情', '劇情', '喜劇', '動作', '劇情', '劇情', '劇情', '紀錄片', '劇情', '劇情', '劇情',\n",
       "       '劇情', '劇情', '溫馨/家庭', '劇情', '劇情', '劇情', '劇情', '動畫', '劇情', '懸疑/驚悚',\n",
       "       '劇情', '劇情', '劇情', '劇情', '劇情', '劇情', '劇情', '劇情', '動作', '劇情', '劇情',\n",
       "       '劇情', '劇情', '劇情', '劇情', '劇情', '劇情', '劇情', '劇情', '劇情', '劇情', '劇情',\n",
       "       '喜劇', '劇情', '犯罪', '劇情', '恐怖', '劇情', '劇情', '動作', '動作', '劇情', '劇情',\n",
       "       '懸疑/驚悚', '動作', '紀錄片', '動作', '恐怖', '冒險', '科幻', '懸疑/驚悚', '喜劇', '紀錄片',\n",
       "       '劇情', '劇情', '喜劇', '冒險', '恐怖', '劇情', '動作', '劇情', '劇情', '劇情', '冒險',\n",
       "       '動作', '動作', '懸疑/驚悚', '劇情', '懸疑/驚悚', '恐怖', '恐怖', '奇幻', '劇情',\n",
       "       '懸疑/驚悚', '喜劇', '劇情', '恐怖', '恐怖', '喜劇', '劇情', '紀錄片', '劇情', '劇情',\n",
       "       '冒險', '劇情', '劇情', '動作', '科幻', '劇情', '動作'], dtype=object)"
      ]
     },
     "execution_count": 382,
     "metadata": {},
     "output_type": "execute_result"
    }
   ],
   "source": [
    "knn.predict(TItest)"
   ]
  },
  {
   "cell_type": "code",
   "execution_count": 383,
   "id": "6ec42c81",
   "metadata": {},
   "outputs": [
    {
     "data": {
      "text/plain": [
       "0.756"
      ]
     },
     "execution_count": 383,
     "metadata": {},
     "output_type": "execute_result"
    }
   ],
   "source": [
    "knn.score(TItest,test['分類'])"
   ]
  },
  {
   "cell_type": "code",
   "execution_count": null,
   "id": "5db58f51",
   "metadata": {},
   "outputs": [],
   "source": []
  }
 ],
 "metadata": {
  "kernelspec": {
   "display_name": "Python 3 (ipykernel)",
   "language": "python",
   "name": "python3"
  },
  "language_info": {
   "codemirror_mode": {
    "name": "ipython",
    "version": 3
   },
   "file_extension": ".py",
   "mimetype": "text/x-python",
   "name": "python",
   "nbconvert_exporter": "python",
   "pygments_lexer": "ipython3",
   "version": "3.9.6"
  }
 },
 "nbformat": 4,
 "nbformat_minor": 5
}
