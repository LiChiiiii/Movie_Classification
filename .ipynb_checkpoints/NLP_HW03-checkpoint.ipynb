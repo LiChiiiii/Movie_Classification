{
 "cells": [
  {
   "cell_type": "code",
   "execution_count": 347,
   "id": "b006c4f5",
   "metadata": {},
   "outputs": [],
   "source": [
    "import pandas as pd\n",
    "import random\n",
    "import jieba\n",
    "import jieba.analyse\n",
    "from sklearn.feature_extraction.text import CountVectorizer\n",
    "from sklearn.feature_extraction.text import TfidfTransformer\n",
    "from sklearn.feature_extraction.text import TfidfVectorizer\n",
    "from sklearn.model_selection import train_test_split\n",
    "\n",
    "train = []\n",
    "test = []\n",
    "data = pd.read_csv(\"movies.csv\")\n",
    "\n",
    "###在每個劇情介紹裡找前十個keywords\n",
    "def fetch_keywords(data):\n",
    "    keywords = []\n",
    "    for content in data['劇情介紹']:\n",
    "        index = jieba.analyse.extract_tags(content,10)\n",
    "        keywords.append(index)\n",
    "    return keywords\n",
    "\n",
    "###package = 名稱+分類+keywords\n",
    "def wrap_up(data):\n",
    "    contents = []\n",
    "    contents = data['名稱']+\" \"+data['分類']+\" \"+(\" \".join(data['keywords']))\n",
    "    return contents\n"
   ]
  },
  {
   "cell_type": "code",
   "execution_count": 348,
   "id": "9331edae",
   "metadata": {},
   "outputs": [
    {
     "name": "stdout",
     "output_type": "stream",
     "text": [
      "success\n"
     ]
    }
   ],
   "source": [
    "data['keywords'] = fetch_keywords(data)\n",
    "data['package'] = data.apply(wrap_up, axis=1)\n",
    "#隨機抽500筆當作測試資料,剩餘的做為訓練資料\n",
    "test = data.sample(n=500,replace = False)\n",
    "train = data.drop(test['num'])\n",
    "#詞頻矩陣\n",
    "vectorizer = CountVectorizer()  \n",
    "CVtest = vectorizer.fit_transform(test['package'])\n",
    "CVtrain = vectorizer.transform(train['package'])\n",
    "#TFIDF矩陣\n",
    "transformer = TfidfTransformer()\n",
    "TItest = transformer.fit_transform(CVtest)\n",
    "TItrain = transformer.transform(CVtrain)\n",
    "print(\"success\")"
   ]
  },
  {
   "cell_type": "code",
   "execution_count": 349,
   "id": "674a88e9",
   "metadata": {},
   "outputs": [
    {
     "data": {
      "text/plain": [
       "KNeighborsClassifier(n_neighbors=3)"
      ]
     },
     "execution_count": 349,
     "metadata": {},
     "output_type": "execute_result"
    }
   ],
   "source": [
    "#knn\n",
    "from sklearn.neighbors import KNeighborsClassifier\n",
    "knn = KNeighborsClassifier(n_neighbors=3)\n",
    "knn.fit(TItrain,train['分類'])"
   ]
  },
  {
   "cell_type": "code",
   "execution_count": 350,
   "id": "5cf67ca1",
   "metadata": {},
   "outputs": [
    {
     "data": {
      "text/plain": [
       "array(['動作', '動作', '科幻', '冒險', '犯罪', '懸疑/驚悚', '科幻', '劇情', '恐怖', '冒險',\n",
       "       '喜劇', '恐怖', '動作', '恐怖', '喜劇', '冒險', '奇幻', '劇情', '劇情', '動作', '冒險',\n",
       "       '冒險', '劇情', '劇情', '犯罪', '恐怖', '喜劇', '動作', '動作', '動作', '犯罪',\n",
       "       '懸疑/驚悚', '犯罪', '冒險', '冒險', '奇幻', '科幻', '冒險', '科幻', '劇情', '劇情',\n",
       "       '冒險', '犯罪', '劇情', '恐怖', '喜劇', '犯罪', '劇情', '犯罪', '奇幻'], dtype=object)"
      ]
     },
     "execution_count": 350,
     "metadata": {},
     "output_type": "execute_result"
    }
   ],
   "source": [
    "knn.predict(TItest)"
   ]
  },
  {
   "cell_type": "code",
   "execution_count": 352,
   "id": "d6a61ae5",
   "metadata": {},
   "outputs": [
    {
     "data": {
      "text/plain": [
       "0.08"
      ]
     },
     "execution_count": 352,
     "metadata": {},
     "output_type": "execute_result"
    }
   ],
   "source": [
    "knn.score(TItest,test['分類'])"
   ]
  },
  {
   "cell_type": "code",
   "execution_count": null,
   "id": "96742bd7",
   "metadata": {},
   "outputs": [],
   "source": []
  }
 ],
 "metadata": {
  "kernelspec": {
   "display_name": "Python 3 (ipykernel)",
   "language": "python",
   "name": "python3"
  },
  "language_info": {
   "codemirror_mode": {
    "name": "ipython",
    "version": 3
   },
   "file_extension": ".py",
   "mimetype": "text/x-python",
   "name": "python",
   "nbconvert_exporter": "python",
   "pygments_lexer": "ipython3",
   "version": "3.9.6"
  }
 },
 "nbformat": 4,
 "nbformat_minor": 5
}
